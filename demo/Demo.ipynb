{
 "cells": [
  {
   "cell_type": "code",
   "execution_count": 11,
   "id": "bbe62ed4",
   "metadata": {},
   "outputs": [
    {
     "name": "stdout",
     "output_type": "stream",
     "text": [
      "Dimensionalitat de la BBDD: (7713, 16)\n",
      "Dimensionalitat de les entrades X (17996, 16)\n",
      "Dimensionalitat de l'atribut Y (17996,)\n"
     ]
    },
    {
     "data": {
      "text/html": [
       "<div>\n",
       "<style scoped>\n",
       "    .dataframe tbody tr th:only-of-type {\n",
       "        vertical-align: middle;\n",
       "    }\n",
       "\n",
       "    .dataframe tbody tr th {\n",
       "        vertical-align: top;\n",
       "    }\n",
       "\n",
       "    .dataframe thead th {\n",
       "        text-align: right;\n",
       "    }\n",
       "</style>\n",
       "<table border=\"1\" class=\"dataframe\">\n",
       "  <thead>\n",
       "    <tr style=\"text-align: right;\">\n",
       "      <th></th>\n",
       "      <th>Artist Name</th>\n",
       "      <th>Popularity</th>\n",
       "      <th>danceability</th>\n",
       "      <th>energy</th>\n",
       "      <th>key</th>\n",
       "      <th>loudness</th>\n",
       "      <th>mode</th>\n",
       "      <th>speechiness</th>\n",
       "      <th>acousticness</th>\n",
       "      <th>instrumentalness</th>\n",
       "      <th>liveness</th>\n",
       "      <th>valence</th>\n",
       "      <th>tempo</th>\n",
       "      <th>duration_in min/ms</th>\n",
       "      <th>time_signature</th>\n",
       "    </tr>\n",
       "  </thead>\n",
       "  <tbody>\n",
       "    <tr>\n",
       "      <th>0</th>\n",
       "      <td>1016</td>\n",
       "      <td>73.0</td>\n",
       "      <td>0.310</td>\n",
       "      <td>0.403</td>\n",
       "      <td>-1.0</td>\n",
       "      <td>-13.664</td>\n",
       "      <td>1</td>\n",
       "      <td>0.0326</td>\n",
       "      <td>0.07260</td>\n",
       "      <td>0.000093</td>\n",
       "      <td>0.1390</td>\n",
       "      <td>0.466</td>\n",
       "      <td>134.480</td>\n",
       "      <td>318027.000000</td>\n",
       "      <td>4</td>\n",
       "    </tr>\n",
       "    <tr>\n",
       "      <th>1</th>\n",
       "      <td>912</td>\n",
       "      <td>34.0</td>\n",
       "      <td>0.511</td>\n",
       "      <td>0.955</td>\n",
       "      <td>1.0</td>\n",
       "      <td>-5.059</td>\n",
       "      <td>1</td>\n",
       "      <td>0.1290</td>\n",
       "      <td>0.00040</td>\n",
       "      <td>0.000009</td>\n",
       "      <td>0.2630</td>\n",
       "      <td>0.291</td>\n",
       "      <td>151.937</td>\n",
       "      <td>220413.000000</td>\n",
       "      <td>4</td>\n",
       "    </tr>\n",
       "    <tr>\n",
       "      <th>2</th>\n",
       "      <td>3165</td>\n",
       "      <td>78.0</td>\n",
       "      <td>0.700</td>\n",
       "      <td>0.709</td>\n",
       "      <td>7.0</td>\n",
       "      <td>-5.006</td>\n",
       "      <td>1</td>\n",
       "      <td>0.0839</td>\n",
       "      <td>0.00480</td>\n",
       "      <td>-1.000000</td>\n",
       "      <td>0.0289</td>\n",
       "      <td>0.625</td>\n",
       "      <td>122.019</td>\n",
       "      <td>202960.000000</td>\n",
       "      <td>4</td>\n",
       "    </tr>\n",
       "    <tr>\n",
       "      <th>3</th>\n",
       "      <td>3749</td>\n",
       "      <td>80.0</td>\n",
       "      <td>0.333</td>\n",
       "      <td>0.637</td>\n",
       "      <td>1.0</td>\n",
       "      <td>-4.904</td>\n",
       "      <td>0</td>\n",
       "      <td>0.0581</td>\n",
       "      <td>0.13100</td>\n",
       "      <td>0.000018</td>\n",
       "      <td>0.1490</td>\n",
       "      <td>0.132</td>\n",
       "      <td>139.898</td>\n",
       "      <td>172693.000000</td>\n",
       "      <td>4</td>\n",
       "    </tr>\n",
       "    <tr>\n",
       "      <th>4</th>\n",
       "      <td>363</td>\n",
       "      <td>48.0</td>\n",
       "      <td>0.393</td>\n",
       "      <td>0.849</td>\n",
       "      <td>11.0</td>\n",
       "      <td>-4.114</td>\n",
       "      <td>1</td>\n",
       "      <td>0.0459</td>\n",
       "      <td>0.00421</td>\n",
       "      <td>-1.000000</td>\n",
       "      <td>0.1620</td>\n",
       "      <td>0.222</td>\n",
       "      <td>74.028</td>\n",
       "      <td>4.093117</td>\n",
       "      <td>4</td>\n",
       "    </tr>\n",
       "  </tbody>\n",
       "</table>\n",
       "</div>"
      ],
      "text/plain": [
       "   Artist Name  Popularity  danceability  energy   key  loudness  mode  \\\n",
       "0         1016        73.0         0.310   0.403  -1.0   -13.664     1   \n",
       "1          912        34.0         0.511   0.955   1.0    -5.059     1   \n",
       "2         3165        78.0         0.700   0.709   7.0    -5.006     1   \n",
       "3         3749        80.0         0.333   0.637   1.0    -4.904     0   \n",
       "4          363        48.0         0.393   0.849  11.0    -4.114     1   \n",
       "\n",
       "   speechiness  acousticness  instrumentalness  liveness  valence    tempo  \\\n",
       "0       0.0326       0.07260          0.000093    0.1390    0.466  134.480   \n",
       "1       0.1290       0.00040          0.000009    0.2630    0.291  151.937   \n",
       "2       0.0839       0.00480         -1.000000    0.0289    0.625  122.019   \n",
       "3       0.0581       0.13100          0.000018    0.1490    0.132  139.898   \n",
       "4       0.0459       0.00421         -1.000000    0.1620    0.222   74.028   \n",
       "\n",
       "   duration_in min/ms  time_signature  \n",
       "0       318027.000000               4  \n",
       "1       220413.000000               4  \n",
       "2       202960.000000               4  \n",
       "3       172693.000000               4  \n",
       "4            4.093117               4  "
      ]
     },
     "execution_count": 11,
     "metadata": {},
     "output_type": "execute_result"
    }
   ],
   "source": [
    "import dill\n",
    "dill.load_session('maincode.db')\n",
    "# Funcio per a llegir dades en format csv\n",
    "def load_dataset(path):\n",
    "    dataset = pd.read_csv(path, header=0, delimiter=',')\n",
    "    return dataset\n",
    "# Carreguem dataset de dades sense classificar\n",
    "dataset = load_dataset('test.csv')\n",
    "print(\"Dimensionalitat de la BBDD:\", dataset.shape)\n",
    "print(\"Dimensionalitat de les entrades X\", x.shape)\n",
    "print(\"Dimensionalitat de l'atribut Y\", y.shape)\n",
    "dataset = dataset.fillna(value = -1)\n",
    "from sklearn import preprocessing\n",
    "#Codifiquem el nom dels artistes\n",
    "encoder = preprocessing.LabelEncoder() \n",
    "dataset[\"Artist Name\"]=encoder.fit_transform(dataset[\"Artist Name\"])\n",
    "#treiem columna Track Name ja que no ens es necesari\n",
    "del dataset[\"Track Name\"]\n",
    "data = dataset.values\n",
    "dataset.head()"
   ]
  },
  {
   "cell_type": "code",
   "execution_count": 31,
   "id": "e1de5005",
   "metadata": {},
   "outputs": [
    {
     "data": {
      "text/plain": [
       "10"
      ]
     },
     "execution_count": 31,
     "metadata": {},
     "output_type": "execute_result"
    }
   ],
   "source": [
    "#Space Oddity - 2015 Remaster by David Bowie (Rock Music)\n",
    "list(model11.predict(data))[0]"
   ]
  },
  {
   "cell_type": "code",
   "execution_count": 34,
   "id": "52806309",
   "metadata": {},
   "outputs": [
    {
     "data": {
      "text/plain": [
       "5"
      ]
     },
     "execution_count": 34,
     "metadata": {},
     "output_type": "execute_result"
    }
   ],
   "source": [
    "# She Make It Clap by Soulja Boy (Hip-hop/Rap)\n",
    "list(model11.predict(data))[64]"
   ]
  },
  {
   "cell_type": "code",
   "execution_count": null,
   "id": "a90d1af3",
   "metadata": {},
   "outputs": [],
   "source": [
    "#0 = Acoustic Folk Genre\n",
    "#1 = Alt Music Genre\n",
    "#2 = Blues Genre\n",
    "#3 = Bollywood Music Genre\n",
    "#4 = Country Music Genre\n",
    "#5 = HipHop Music Genre\n",
    "#6 = Indie Music Genre\n",
    "#7 = Instrumental Music Genre\n",
    "#8 = Metal Music Genre\n",
    "#9 = Pop Music Genre\n",
    "#10 = Rock Music"
   ]
  }
 ],
 "metadata": {
  "kernelspec": {
   "display_name": "Python 3",
   "language": "python",
   "name": "python3"
  },
  "language_info": {
   "codemirror_mode": {
    "name": "ipython",
    "version": 3
   },
   "file_extension": ".py",
   "mimetype": "text/x-python",
   "name": "python",
   "nbconvert_exporter": "python",
   "pygments_lexer": "ipython3",
   "version": "3.8.8"
  }
 },
 "nbformat": 4,
 "nbformat_minor": 5
}
